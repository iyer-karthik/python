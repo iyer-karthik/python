{
 "cells": [
  {
   "cell_type": "code",
   "execution_count": 1,
   "metadata": {},
   "outputs": [],
   "source": [
    "# -*- coding: utf-8 -*-\n",
    "import numpy as np\n",
    "import matplotlib.pyplot as plt\n",
    "plt.style.use('fivethirtyeight')\n",
    "\n",
    "class PDP(object):\n",
    "    \"\"\"\n",
    "    Creates a partial dependence plotter object for a given target feature.\n",
    "    \n",
    "    Parameters\n",
    "    ----------\n",
    "    model : A Classifier or a Regressor object.\n",
    "        Classifer must implement predict_proba() method\n",
    "             \n",
    "    feature_name: str\n",
    "        The name of the target feature for which partial dependence plots are \n",
    "        to be created\n",
    "    \n",
    "    n_classes: None or int\n",
    "        The number of class labels for the classifer. \n",
    "        Defaults to None, which corresponds to a regression model\n",
    "    \n",
    "    training_df : array-like, shape=(n_samples, n_features)\n",
    "        The data on which `model` was trained.\n",
    "    \n",
    "    n_grid : int, default=100\n",
    "        The number of equally spaced points for target feature `feature_name` \n",
    "        for which partial dependence function is to be computed.\n",
    "        \n",
    "    percentile : (low, high), default=(0.05, 0.95)\n",
    "        The lower and upper percentile used to create the extreme value for \n",
    "        target feature `feature_name`\n",
    "    \"\"\"\n",
    "    \n",
    "    def __init__(self, model, feature_name, training_df, n_classes=None, percentile=(0.05, 0.95), n_grid=100):\n",
    "\n",
    "        self.model = model\n",
    "        self.n_classes = n_classes \n",
    "        self.feature_name = feature_name\n",
    "        self.training_df = training_df\n",
    "        self.percentile = percentile\n",
    "        self.n_grid = n_grid\n",
    "        \n",
    "        if self.n_classes is not None and self.n_classes != len(self.model.classes_):\n",
    "            raise ValueError('The number of classifier labels does not match `n_classes`')\n",
    "            \n",
    "        if self.feature_name is None:\n",
    "            raise ValueError('target variable is not given for PDP')\n",
    "        \n",
    "        if self.feature_name not in self.training_df.columns:\n",
    "            raise ValueError('target variable `%s` is not a feature' % str(self.feature_name))\n",
    "    \n",
    "    def calc_partial_dependence(self):\n",
    "        \n",
    "        \"\"\"\n",
    "        Calculates partial dependence function for the feature `feature_name`. \n",
    "        \n",
    "        Returns\n",
    "        -------\n",
    "        pdp : numpy ndarray, shape=(no_of_classes, `n_grid`)\n",
    "            The partial dependence function evaluated on a grid of `n_grid` \n",
    "            equally spaced points of the target feature `feature_name`. The \n",
    "            max and min values of the grid are specified through the \n",
    "            `percentile` parameter of the object.\n",
    "            \n",
    "            For regression ``no_of_classes==1``. For classification, \n",
    "            ``no_of_classes == n_classes``\n",
    "        \n",
    "        x_vals : numpy ndarray, shape=(`n_grid`, )\n",
    "            The values of the target feature `feature_name` for which partial \n",
    "            dependence function is computed\n",
    "        \"\"\"\n",
    "        \n",
    "        # Use sklearn's partial dependence algorithm implementation if model is a Gradient Boosted Tree\n",
    "        \n",
    "        print(\"Calculating partial dependence...\")\n",
    "        from sklearn.ensemble.partial_dependence import partial_dependence\n",
    "        from sklearn.ensemble.gradient_boosting import BaseGradientBoosting\n",
    "        if isinstance(self.model, BaseGradientBoosting):\n",
    "            feature_name_idx = list(self.training_df.columns).index(self.feature_name)\n",
    "            pdp, x_vals = partial_dependence(gbrt=self.model, \n",
    "                                            target_variables=feature_name_idx, \n",
    "                                            grid=None, \n",
    "                                            X=self.training_df, \n",
    "                                            percentiles=self.percentile, \n",
    "                                            grid_resolution=self.n_grid)\n",
    "            x_vals = x_vals[0] # Get a grid of x axis values\n",
    "                                  \n",
    "            if self.n_classes is None: # Regression\n",
    "                return pdp, x_vals\n",
    "            else: \n",
    "                # Compute the probabilities for each class. Reference:  Eqns (29) and (30) \n",
    "                # in https://projecteuclid.org/download/pdf_1/euclid.aos/1013203451\n",
    "                odds = np.exp(pdp)\n",
    "                prob_array = odds/ odds.sum(axis=0)\n",
    "                return prob_array, x_vals\n",
    "        \n",
    "        # Otherwise implement algorithm from scratch\n",
    "        _df = self.training_df.copy()\n",
    "\n",
    "        # n_classes is None corresponds to regression\n",
    "        predict = self.model.predict if self.n_classes is None else self.model.predict_proba\n",
    "        \n",
    "        # Get a prediction grid. If feature is non-categorical use equally spaced \n",
    "        # points b/w given percentile values. Otherwise use all possible values.\n",
    "        if self.feature_name in _df.select_dtypes(include=['float64', 'int64']).columns:\n",
    "            lower_limit = np.percentile(_df[self.feature_name], self.percentile[0]*100)\n",
    "            upper_limit = np.percentile(_df[self.feature_name], self.percentile[1]*100)\n",
    "            x_vals = np.linspace(start=lower_limit, stop=upper_limit, num=self.n_grid)\n",
    "            \n",
    "        elif self.feature_name in _df.select_dtypes(inlcude=['unit8', 'category', 'bool']).columns:  \n",
    "            x_vals = _df[self.feature_name].unique()\n",
    "            \n",
    "        else:\n",
    "            raise ValueError('Type of target feature must be one of float64, int64, unit8, category or bool')\n",
    "         \n",
    "        pdp = np.asarray([self._get_mean_prediction(_df, predict, val) for val in x_vals]).T\n",
    "        return pdp, x_vals\n",
    "    \n",
    "    def _get_mean_prediction(self, _df, predict, val):\n",
    "        \n",
    "        \"\"\"\n",
    "        Calculate expected partial dependence prediction for `val`\n",
    "        \"\"\"\n",
    "        \n",
    "        _df[self.feature_name] = val\n",
    "        return np.mean(predict(_df), axis=0).tolist()     \n",
    "    \n",
    "    def plot_partial_dependence(self, label_name):\n",
    "        \n",
    "        \"\"\"\n",
    "        Plots partial dependence function for the label `label_name`. \n",
    "        \n",
    "        Parameters\n",
    "        ----------\n",
    "        label_name: str\n",
    "            Name of the label for which partial dependence function is to be \n",
    "            plotted. Defaults to None which corresponds to a regressor\n",
    "        \n",
    "        Returns\n",
    "        -------\n",
    "        fig : figure\n",
    "            The Matplotlib Figure object.\n",
    "        ax : Axis object\n",
    "            An Axis object, for the plot.\n",
    "        \"\"\"\n",
    "        \n",
    "        if self.n_classes is not None and label_name not in self.model.classes_:\n",
    "            raise ValueError('label name `%s` not a valid label' % str(label_name))\n",
    "            \n",
    "        if self.n_classes is not None and label_name is None:\n",
    "            raise ValueError('label must be given for a classifer.')\n",
    "        \n",
    "        pdp, x_vals = self.calc_partial_dependence()\n",
    "        \n",
    "        # Plot one dimensional PDP\n",
    "        plt.figure(figsize=(12, 8)) # This hardcoded value provides good aspect-ratio\n",
    "        \n",
    "        if self.n_classes is not None:\n",
    "            label_idx = list(self.model.classes_).index(label_name)\n",
    "            plt.plot(x_vals, pdp[label_idx], lw=1.5)\n",
    "            fig = plt.gcf()\n",
    "            return fig, fig.axes[0]\n",
    "        else:\n",
    "            plt.plot(x_vals, pdp, lw=1.5)\n",
    "            fig = plt.gcf()\n",
    "            return fig, fig.axes[0]"
   ]
  },
  {
   "cell_type": "code",
   "execution_count": null,
   "metadata": {},
   "outputs": [],
   "source": []
  },
  {
   "cell_type": "code",
   "execution_count": 2,
   "metadata": {},
   "outputs": [
    {
     "name": "stdout",
     "output_type": "stream",
     "text": [
      "Training GBC...\n"
     ]
    },
    {
     "ename": "KeyboardInterrupt",
     "evalue": "",
     "output_type": "error",
     "traceback": [
      "\u001b[1;31m---------------------------------------------------------------------------\u001b[0m",
      "\u001b[1;31mKeyboardInterrupt\u001b[0m                         Traceback (most recent call last)",
      "\u001b[1;32m<ipython-input-2-ee7700574651>\u001b[0m in \u001b[0;36m<module>\u001b[1;34m()\u001b[0m\n\u001b[0;32m     29\u001b[0m                                  \u001b[0mlearning_rate\u001b[0m\u001b[1;33m=\u001b[0m\u001b[1;36m0.1\u001b[0m\u001b[1;33m,\u001b[0m\u001b[1;33m\u001b[0m\u001b[0m\n\u001b[0;32m     30\u001b[0m                                  random_state=1)\n\u001b[1;32m---> 31\u001b[1;33m \u001b[0mclf\u001b[0m\u001b[1;33m.\u001b[0m\u001b[0mfit\u001b[0m\u001b[1;33m(\u001b[0m\u001b[0mfeatures_train\u001b[0m\u001b[1;33m,\u001b[0m \u001b[0mlabels_train\u001b[0m\u001b[1;33m)\u001b[0m\u001b[1;33m\u001b[0m\u001b[0m\n\u001b[0m\u001b[0;32m     32\u001b[0m \u001b[0mprint\u001b[0m\u001b[1;33m(\u001b[0m\u001b[1;34m\"Done\"\u001b[0m\u001b[1;33m)\u001b[0m\u001b[1;33m\u001b[0m\u001b[0m\n\u001b[0;32m     33\u001b[0m \u001b[1;33m\u001b[0m\u001b[0m\n",
      "\u001b[1;32m~\\Anaconda3\\lib\\site-packages\\sklearn\\ensemble\\gradient_boosting.py\u001b[0m in \u001b[0;36mfit\u001b[1;34m(self, X, y, sample_weight, monitor)\u001b[0m\n\u001b[0;32m   1032\u001b[0m         \u001b[1;31m# fit the boosting stages\u001b[0m\u001b[1;33m\u001b[0m\u001b[1;33m\u001b[0m\u001b[0m\n\u001b[0;32m   1033\u001b[0m         n_stages = self._fit_stages(X, y, y_pred, sample_weight, random_state,\n\u001b[1;32m-> 1034\u001b[1;33m                                     begin_at_stage, monitor, X_idx_sorted)\n\u001b[0m\u001b[0;32m   1035\u001b[0m         \u001b[1;31m# change shape of arrays after fit (early-stopping or additional ests)\u001b[0m\u001b[1;33m\u001b[0m\u001b[1;33m\u001b[0m\u001b[0m\n\u001b[0;32m   1036\u001b[0m         \u001b[1;32mif\u001b[0m \u001b[0mn_stages\u001b[0m \u001b[1;33m!=\u001b[0m \u001b[0mself\u001b[0m\u001b[1;33m.\u001b[0m\u001b[0mestimators_\u001b[0m\u001b[1;33m.\u001b[0m\u001b[0mshape\u001b[0m\u001b[1;33m[\u001b[0m\u001b[1;36m0\u001b[0m\u001b[1;33m]\u001b[0m\u001b[1;33m:\u001b[0m\u001b[1;33m\u001b[0m\u001b[0m\n",
      "\u001b[1;32m~\\Anaconda3\\lib\\site-packages\\sklearn\\ensemble\\gradient_boosting.py\u001b[0m in \u001b[0;36m_fit_stages\u001b[1;34m(self, X, y, y_pred, sample_weight, random_state, begin_at_stage, monitor, X_idx_sorted)\u001b[0m\n\u001b[0;32m   1087\u001b[0m             y_pred = self._fit_stage(i, X, y, y_pred, sample_weight,\n\u001b[0;32m   1088\u001b[0m                                      \u001b[0msample_mask\u001b[0m\u001b[1;33m,\u001b[0m \u001b[0mrandom_state\u001b[0m\u001b[1;33m,\u001b[0m \u001b[0mX_idx_sorted\u001b[0m\u001b[1;33m,\u001b[0m\u001b[1;33m\u001b[0m\u001b[0m\n\u001b[1;32m-> 1089\u001b[1;33m                                      X_csc, X_csr)\n\u001b[0m\u001b[0;32m   1090\u001b[0m \u001b[1;33m\u001b[0m\u001b[0m\n\u001b[0;32m   1091\u001b[0m             \u001b[1;31m# track deviance (= loss)\u001b[0m\u001b[1;33m\u001b[0m\u001b[1;33m\u001b[0m\u001b[0m\n",
      "\u001b[1;32m~\\Anaconda3\\lib\\site-packages\\sklearn\\ensemble\\gradient_boosting.py\u001b[0m in \u001b[0;36m_fit_stage\u001b[1;34m(self, i, X, y, y_pred, sample_weight, sample_mask, random_state, X_idx_sorted, X_csc, X_csr)\u001b[0m\n\u001b[0;32m    786\u001b[0m             \u001b[1;32melse\u001b[0m\u001b[1;33m:\u001b[0m\u001b[1;33m\u001b[0m\u001b[0m\n\u001b[0;32m    787\u001b[0m                 tree.fit(X, residual, sample_weight=sample_weight,\n\u001b[1;32m--> 788\u001b[1;33m                          check_input=False, X_idx_sorted=X_idx_sorted)\n\u001b[0m\u001b[0;32m    789\u001b[0m \u001b[1;33m\u001b[0m\u001b[0m\n\u001b[0;32m    790\u001b[0m             \u001b[1;31m# update tree leaves\u001b[0m\u001b[1;33m\u001b[0m\u001b[1;33m\u001b[0m\u001b[0m\n",
      "\u001b[1;32m~\\Anaconda3\\lib\\site-packages\\sklearn\\tree\\tree.py\u001b[0m in \u001b[0;36mfit\u001b[1;34m(self, X, y, sample_weight, check_input, X_idx_sorted)\u001b[0m\n\u001b[0;32m   1122\u001b[0m             \u001b[0msample_weight\u001b[0m\u001b[1;33m=\u001b[0m\u001b[0msample_weight\u001b[0m\u001b[1;33m,\u001b[0m\u001b[1;33m\u001b[0m\u001b[0m\n\u001b[0;32m   1123\u001b[0m             \u001b[0mcheck_input\u001b[0m\u001b[1;33m=\u001b[0m\u001b[0mcheck_input\u001b[0m\u001b[1;33m,\u001b[0m\u001b[1;33m\u001b[0m\u001b[0m\n\u001b[1;32m-> 1124\u001b[1;33m             X_idx_sorted=X_idx_sorted)\n\u001b[0m\u001b[0;32m   1125\u001b[0m         \u001b[1;32mreturn\u001b[0m \u001b[0mself\u001b[0m\u001b[1;33m\u001b[0m\u001b[0m\n\u001b[0;32m   1126\u001b[0m \u001b[1;33m\u001b[0m\u001b[0m\n",
      "\u001b[1;32m~\\Anaconda3\\lib\\site-packages\\sklearn\\tree\\tree.py\u001b[0m in \u001b[0;36mfit\u001b[1;34m(self, X, y, sample_weight, check_input, X_idx_sorted)\u001b[0m\n\u001b[0;32m    360\u001b[0m                                            min_impurity_split)\n\u001b[0;32m    361\u001b[0m \u001b[1;33m\u001b[0m\u001b[0m\n\u001b[1;32m--> 362\u001b[1;33m         \u001b[0mbuilder\u001b[0m\u001b[1;33m.\u001b[0m\u001b[0mbuild\u001b[0m\u001b[1;33m(\u001b[0m\u001b[0mself\u001b[0m\u001b[1;33m.\u001b[0m\u001b[0mtree_\u001b[0m\u001b[1;33m,\u001b[0m \u001b[0mX\u001b[0m\u001b[1;33m,\u001b[0m \u001b[0my\u001b[0m\u001b[1;33m,\u001b[0m \u001b[0msample_weight\u001b[0m\u001b[1;33m,\u001b[0m \u001b[0mX_idx_sorted\u001b[0m\u001b[1;33m)\u001b[0m\u001b[1;33m\u001b[0m\u001b[0m\n\u001b[0m\u001b[0;32m    363\u001b[0m \u001b[1;33m\u001b[0m\u001b[0m\n\u001b[0;32m    364\u001b[0m         \u001b[1;32mif\u001b[0m \u001b[0mself\u001b[0m\u001b[1;33m.\u001b[0m\u001b[0mn_outputs_\u001b[0m \u001b[1;33m==\u001b[0m \u001b[1;36m1\u001b[0m\u001b[1;33m:\u001b[0m\u001b[1;33m\u001b[0m\u001b[0m\n",
      "\u001b[1;31mKeyboardInterrupt\u001b[0m: "
     ]
    }
   ],
   "source": [
    "import numpy as np\n",
    "import matplotlib.pyplot as plt\n",
    "import pandas as pd\n",
    "import pd_plot\n",
    "from sklearn.model_selection import train_test_split\n",
    "from sklearn.ensemble import GradientBoostingClassifier\n",
    "from sklearn.ensemble import RandomForestClassifier\n",
    "from sklearn.datasets.california_housing import fetch_california_housing\n",
    "from sklearn.metrics import confusion_matrix, classification_report\n",
    "\n",
    "# Create a dataframe with target variable as the median price label, which takes 3 values 'low', 'medium' and 'high'\n",
    "\n",
    "cal_housing = fetch_california_housing()\n",
    "df = pd.DataFrame(data=cal_housing.data, columns=cal_housing.feature_names)\n",
    "df['price_cat'] = pd.qcut(cal_housing.target, q=3, labels=['low', 'medium', 'high'])\n",
    "\n",
    "features = df.drop(\"price_cat\", axis=1)\n",
    "labels = df[\"price_cat\"]\n",
    "\n",
    "features_train, features_test, labels_train, labels_test = train_test_split(features, labels, \n",
    "                                                                            test_size=0.2, \n",
    "                                                                            random_state=42,\n",
    "                                                                            stratify=labels)\n",
    "\n",
    "print(\"Training GBC...\")\n",
    "clf = GradientBoostingClassifier(loss='deviance',\n",
    "                                 n_estimators=1500, \n",
    "                                 max_depth=4,\n",
    "                                 learning_rate=0.1,\n",
    "                                 random_state=1)\n",
    "clf.fit(features_train, labels_train)\n",
    "print(\"Done\")\n",
    "\n",
    "print(' GBC:\\n {}\\n'.format(classification_report(labels_test, clf.predict(features_test))))\n",
    "confusion_matrix(labels_test, clf.predict(features_test))"
   ]
  },
  {
   "cell_type": "code",
   "execution_count": null,
   "metadata": {},
   "outputs": [],
   "source": [
    "print(\"Training RF...\")\n",
    "rf = RandomForestClassifier(random_state=0)\n",
    "rf.fit(features_train, labels_train)\n",
    "print(\"Done\")\n",
    "\n",
    "print(' RF:\\n {}\\n'.format(classification_report(labels_test, rf.predict(features_test))))\n",
    "confusion_matrix(labels_test, rf.predict(features_test))"
   ]
  },
  {
   "cell_type": "code",
   "execution_count": 10,
   "metadata": {},
   "outputs": [],
   "source": [
    "feature_name ='AveOccup'\n",
    "\n",
    "label_name='low'"
   ]
  },
  {
   "cell_type": "code",
   "execution_count": null,
   "metadata": {},
   "outputs": [],
   "source": [
    "partial_dependence = PDP(model=rf,\n",
    "                         #model=clf,\n",
    "                         n_classes=3,\n",
    "                         feature_name=feature_name,\n",
    "                         training_df=features_train,\n",
    "                         percentile=(0.05, 0.95),\n",
    "                         n_grid=100)"
   ]
  },
  {
   "cell_type": "code",
   "execution_count": null,
   "metadata": {},
   "outputs": [],
   "source": [
    "fig, ax = partial_dependence.plot_partial_dependence(label_name=label_name)\n",
    "ax.set_title('Partial dependence plot')\n",
    "ax.set_ylabel('Prob of belonging to class `{}`'.format(label_name))\n",
    "ax.set_xlabel(feature_name)"
   ]
  },
  {
   "cell_type": "code",
   "execution_count": null,
   "metadata": {},
   "outputs": [],
   "source": [
    "cal_housing = fetch_california_housing()\n",
    "df = pd.DataFrame(data=cal_housing.data, columns=cal_housing.feature_names)"
   ]
  },
  {
   "cell_type": "code",
   "execution_count": 4,
   "metadata": {},
   "outputs": [],
   "source": [
    "from sklearn.ensemble import RandomForestRegressor"
   ]
  },
  {
   "cell_type": "code",
   "execution_count": 5,
   "metadata": {},
   "outputs": [
    {
     "name": "stdout",
     "output_type": "stream",
     "text": [
      "Training GBC...\n",
      "Done\n"
     ]
    }
   ],
   "source": [
    "# Create a dataframe with target variable as the median price label, which takes 3 values 'low', 'medium' and 'high'\n",
    "\n",
    "cal_housing = fetch_california_housing()\n",
    "df = pd.DataFrame(data=cal_housing.data, columns=cal_housing.feature_names)\n",
    "#df['price_cat'] = pd.qcut(cal_housing.target, q=3, labels=['low', 'medium', 'high'])\n",
    "\n",
    "#features = df.drop(\"price_cat\", axis=1)\n",
    "features = df\n",
    "labels = cal_housing.target\n",
    "\n",
    "features_train, features_test, labels_train, labels_test = train_test_split(features, labels, \n",
    "                                                                            test_size=0.2, \n",
    "                                                                            random_state=42)\n",
    "\n",
    "print(\"Training GBC...\")\n",
    "reg = RandomForestRegressor(n_estimators=1500, \n",
    "                                 max_depth=4,\n",
    "                                 random_state=1)\n",
    "reg.fit(features_train, labels_train)\n",
    "print(\"Done\")\n"
   ]
  },
  {
   "cell_type": "code",
   "execution_count": 7,
   "metadata": {},
   "outputs": [],
   "source": [
    "from sklearn.metrics import mean_squared_error"
   ]
  },
  {
   "cell_type": "code",
   "execution_count": 8,
   "metadata": {},
   "outputs": [
    {
     "data": {
      "text/plain": [
       "0.5255966576592451"
      ]
     },
     "execution_count": 8,
     "metadata": {},
     "output_type": "execute_result"
    }
   ],
   "source": [
    "mean_squared_error(reg.predict(features_test), labels_test)"
   ]
  },
  {
   "cell_type": "code",
   "execution_count": 11,
   "metadata": {},
   "outputs": [],
   "source": [
    "partial_dependence_reg = PDP(model=reg,\n",
    "    feature_name=feature_name,\n",
    "    training_df=features_train)"
   ]
  },
  {
   "cell_type": "code",
   "execution_count": null,
   "metadata": {},
   "outputs": [],
   "source": [
    "pdp, xvals = partial_dependence_reg.calc_partial_dependence()"
   ]
  },
  {
   "cell_type": "code",
   "execution_count": 13,
   "metadata": {},
   "outputs": [
    {
     "name": "stdout",
     "output_type": "stream",
     "text": [
      "Calculating partial dependence...\n"
     ]
    },
    {
     "data": {
      "text/plain": [
       "Text(0.5,0,'AveOccup')"
      ]
     },
     "execution_count": 13,
     "metadata": {},
     "output_type": "execute_result"
    },
    {
     "data": {
      "image/png": "[encoded data removed]",
      "text/plain": [
       "<matplotlib.figure.Figure at 0x2e8989d67f0>"
      ]
     },
     "metadata": {},
     "output_type": "display_data"
    }
   ],
   "source": [
    "fig, ax = partial_dependence_reg.plot_partial_dependence(label_name='fasfqf')\n",
    "ax.set_title('Partial dependence plot')\n",
    "ax.set_ylabel('qefeqfe')\n",
    "ax.set_xlabel(feature_name)"
   ]
  },
  {
   "cell_type": "code",
   "execution_count": null,
   "metadata": {},
   "outputs": [],
   "source": [
    "xvals.shape"
   ]
  },
  {
   "cell_type": "code",
   "execution_count": null,
   "metadata": {},
   "outputs": [],
   "source": []
  }
 ],
 "metadata": {
  "kernelspec": {
   "display_name": "Python 3",
   "language": "python",
   "name": "python3"
  },
  "language_info": {
   "codemirror_mode": {
    "name": "ipython",
    "version": 3
   },
   "file_extension": ".py",
   "mimetype": "text/x-python",
   "name": "python",
   "nbconvert_exporter": "python",
   "pygments_lexer": "ipython3",
   "version": "3.6.4"
  }
 },
 "nbformat": 4,
 "nbformat_minor": 2
}
