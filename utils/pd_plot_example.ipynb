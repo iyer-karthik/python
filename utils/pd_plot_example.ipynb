{
 "cells": [
  {
   "cell_type": "markdown",
   "metadata": {},
   "source": [
    "## What are partial dependence plots? \n",
    "\n",
    "Black-box models like ranom forests, boosted trees, support vector machines suffer from a lack of interpretability. It can be difficult to interprt the results of such models and explain them to management. Partial dependence plots (PDPs) offer a solution. Partial dependence plots (PDPs) are lowdimensional\n",
    "graphical renderings of the prediction function so that the relationship between the\n",
    "outcome and predictors of interest can be more easily understood. In this notebook we only look at one PDP plots for one variable. For a detailed introduction to \n",
    "PDPs, please take a look at this [paper](https://projecteuclid.org/download/pdf_1/euclid.aos/1013203451) and this [paper](https://journal.r-project.org/archive/2017/RJ-2017-016/RJ-2017-016.pdf). Essentially, to study the dependence of a particular variable on the target, we marginalize other variables, i.e the partial dependence function of the feature $X_i$ at the point $x_i$ is defined as \n",
    "\n",
    "$$\\hat{f}(x_i) = \\int_{X \\neq X_i} \\hat{g}(x_i, X) dX, $$\n",
    "where the integral is taken over all features not equal to $x$ and $\\hat{g}$ is the model output. This definition also extends to more than 1 variable. \n",
    "\n",
    "\n",
    "`sklearn` has an implemetation of PDP for gradient boosting (classfication and regression). Though partial dependence plots \n",
    "can be plotted for any model, it is especially efficient for gradient boosted trees and the implentation in `sklearn` takes advantage of that. Currently PDPs are only plotted for gradient boosted trees in `sklearn`, though there are plans of extending the functionality to random forests. \n",
    "\n",
    "The primary reason I wanted to create custom partial dependence plotter is because\n",
    "The outputs of `sklearn` implemtation for PDPs for classfication plots the log-odds for each class, which can be harder to interpret and explain to a business. This notebook walks through a quick example of how partial dependence function in `sklearn` can be slightly modified to create a custom plotter which `probabilities` for each class. \n",
    "\n",
    "Note that ***my implementation only plots 1d plots for classfication***. More work is needed to extend the implementation to regression and plot 2D or 3D plots. There is also some work needed to refactor the plotting function which I plan to get to soon. "
   ]
  },
  {
   "cell_type": "markdown",
   "metadata": {},
   "source": [
    "***Example walkthrough***"
   ]
  },
  {
   "cell_type": "code",
   "execution_count": 1,
   "metadata": {},
   "outputs": [],
   "source": [
    "import numpy as np\n",
    "import matplotlib.pyplot as plt\n",
    "import pandas as pd\n",
    "import pd_plot\n",
    "from sklearn.model_selection import train_test_split\n",
    "from sklearn.ensemble import GradientBoostingClassifier\n",
    "from sklearn.datasets.california_housing import fetch_california_housing\n",
    "\n",
    "from sklearn.metrics import confusion_matrix, classification_report"
   ]
  },
  {
   "cell_type": "markdown",
   "metadata": {},
   "source": [
    "To walk thorugh an example and show how the custom plotter works, I chose the Califoria housing dataset and converted the \n",
    "regression to a 3 class classification problem. (You can choose any number of classes for the custom plotter.)"
   ]
  },
  {
   "cell_type": "code",
   "execution_count": 2,
   "metadata": {},
   "outputs": [],
   "source": [
    "# Create a dataframe with target variable as the median price label, which takes 3 values 'low', 'medium' and 'high'\n",
    "\n",
    "cal_housing = fetch_california_housing()\n",
    "df = pd.DataFrame(data=cal_housing.data, columns=cal_housing.feature_names)\n",
    "df['price_cat'] = pd.qcut(cal_housing.target, q=3, labels=['low', 'medium', 'high'])"
   ]
  },
  {
   "cell_type": "code",
   "execution_count": 3,
   "metadata": {},
   "outputs": [
    {
     "data": {
      "text/html": [
       "<div>\n",
       "<style scoped>\n",
       "    .dataframe tbody tr th:only-of-type {\n",
       "        vertical-align: middle;\n",
       "    }\n",
       "\n",
       "    .dataframe tbody tr th {\n",
       "        vertical-align: top;\n",
       "    }\n",
       "\n",
       "    .dataframe thead th {\n",
       "        text-align: right;\n",
       "    }\n",
       "</style>\n",
       "<table border=\"1\" class=\"dataframe\">\n",
       "  <thead>\n",
       "    <tr style=\"text-align: right;\">\n",
       "      <th></th>\n",
       "      <th>MedInc</th>\n",
       "      <th>HouseAge</th>\n",
       "      <th>AveRooms</th>\n",
       "      <th>AveBedrms</th>\n",
       "      <th>Population</th>\n",
       "      <th>AveOccup</th>\n",
       "      <th>Latitude</th>\n",
       "      <th>Longitude</th>\n",
       "      <th>price_cat</th>\n",
       "    </tr>\n",
       "  </thead>\n",
       "  <tbody>\n",
       "    <tr>\n",
       "      <th>0</th>\n",
       "      <td>8.3252</td>\n",
       "      <td>41.0</td>\n",
       "      <td>6.984127</td>\n",
       "      <td>1.023810</td>\n",
       "      <td>322.0</td>\n",
       "      <td>2.555556</td>\n",
       "      <td>37.88</td>\n",
       "      <td>-122.23</td>\n",
       "      <td>high</td>\n",
       "    </tr>\n",
       "    <tr>\n",
       "      <th>1</th>\n",
       "      <td>8.3014</td>\n",
       "      <td>21.0</td>\n",
       "      <td>6.238137</td>\n",
       "      <td>0.971880</td>\n",
       "      <td>2401.0</td>\n",
       "      <td>2.109842</td>\n",
       "      <td>37.86</td>\n",
       "      <td>-122.22</td>\n",
       "      <td>high</td>\n",
       "    </tr>\n",
       "    <tr>\n",
       "      <th>2</th>\n",
       "      <td>7.2574</td>\n",
       "      <td>52.0</td>\n",
       "      <td>8.288136</td>\n",
       "      <td>1.073446</td>\n",
       "      <td>496.0</td>\n",
       "      <td>2.802260</td>\n",
       "      <td>37.85</td>\n",
       "      <td>-122.24</td>\n",
       "      <td>high</td>\n",
       "    </tr>\n",
       "    <tr>\n",
       "      <th>3</th>\n",
       "      <td>5.6431</td>\n",
       "      <td>52.0</td>\n",
       "      <td>5.817352</td>\n",
       "      <td>1.073059</td>\n",
       "      <td>558.0</td>\n",
       "      <td>2.547945</td>\n",
       "      <td>37.85</td>\n",
       "      <td>-122.25</td>\n",
       "      <td>high</td>\n",
       "    </tr>\n",
       "    <tr>\n",
       "      <th>4</th>\n",
       "      <td>3.8462</td>\n",
       "      <td>52.0</td>\n",
       "      <td>6.281853</td>\n",
       "      <td>1.081081</td>\n",
       "      <td>565.0</td>\n",
       "      <td>2.181467</td>\n",
       "      <td>37.85</td>\n",
       "      <td>-122.25</td>\n",
       "      <td>high</td>\n",
       "    </tr>\n",
       "    <tr>\n",
       "      <th>5</th>\n",
       "      <td>4.0368</td>\n",
       "      <td>52.0</td>\n",
       "      <td>4.761658</td>\n",
       "      <td>1.103627</td>\n",
       "      <td>413.0</td>\n",
       "      <td>2.139896</td>\n",
       "      <td>37.85</td>\n",
       "      <td>-122.25</td>\n",
       "      <td>high</td>\n",
       "    </tr>\n",
       "    <tr>\n",
       "      <th>6</th>\n",
       "      <td>3.6591</td>\n",
       "      <td>52.0</td>\n",
       "      <td>4.931907</td>\n",
       "      <td>0.951362</td>\n",
       "      <td>1094.0</td>\n",
       "      <td>2.128405</td>\n",
       "      <td>37.84</td>\n",
       "      <td>-122.25</td>\n",
       "      <td>high</td>\n",
       "    </tr>\n",
       "    <tr>\n",
       "      <th>7</th>\n",
       "      <td>3.1200</td>\n",
       "      <td>52.0</td>\n",
       "      <td>4.797527</td>\n",
       "      <td>1.061824</td>\n",
       "      <td>1157.0</td>\n",
       "      <td>1.788253</td>\n",
       "      <td>37.84</td>\n",
       "      <td>-122.25</td>\n",
       "      <td>high</td>\n",
       "    </tr>\n",
       "    <tr>\n",
       "      <th>8</th>\n",
       "      <td>2.0804</td>\n",
       "      <td>42.0</td>\n",
       "      <td>4.294118</td>\n",
       "      <td>1.117647</td>\n",
       "      <td>1206.0</td>\n",
       "      <td>2.026891</td>\n",
       "      <td>37.84</td>\n",
       "      <td>-122.26</td>\n",
       "      <td>medium</td>\n",
       "    </tr>\n",
       "    <tr>\n",
       "      <th>9</th>\n",
       "      <td>3.6912</td>\n",
       "      <td>52.0</td>\n",
       "      <td>4.970588</td>\n",
       "      <td>0.990196</td>\n",
       "      <td>1551.0</td>\n",
       "      <td>2.172269</td>\n",
       "      <td>37.84</td>\n",
       "      <td>-122.25</td>\n",
       "      <td>high</td>\n",
       "    </tr>\n",
       "  </tbody>\n",
       "</table>\n",
       "</div>"
      ],
      "text/plain": [
       "   MedInc  HouseAge  AveRooms  AveBedrms  Population  AveOccup  Latitude  \\\n",
       "0  8.3252      41.0  6.984127   1.023810       322.0  2.555556     37.88   \n",
       "1  8.3014      21.0  6.238137   0.971880      2401.0  2.109842     37.86   \n",
       "2  7.2574      52.0  8.288136   1.073446       496.0  2.802260     37.85   \n",
       "3  5.6431      52.0  5.817352   1.073059       558.0  2.547945     37.85   \n",
       "4  3.8462      52.0  6.281853   1.081081       565.0  2.181467     37.85   \n",
       "5  4.0368      52.0  4.761658   1.103627       413.0  2.139896     37.85   \n",
       "6  3.6591      52.0  4.931907   0.951362      1094.0  2.128405     37.84   \n",
       "7  3.1200      52.0  4.797527   1.061824      1157.0  1.788253     37.84   \n",
       "8  2.0804      42.0  4.294118   1.117647      1206.0  2.026891     37.84   \n",
       "9  3.6912      52.0  4.970588   0.990196      1551.0  2.172269     37.84   \n",
       "\n",
       "   Longitude price_cat  \n",
       "0    -122.23      high  \n",
       "1    -122.22      high  \n",
       "2    -122.24      high  \n",
       "3    -122.25      high  \n",
       "4    -122.25      high  \n",
       "5    -122.25      high  \n",
       "6    -122.25      high  \n",
       "7    -122.25      high  \n",
       "8    -122.26    medium  \n",
       "9    -122.25      high  "
      ]
     },
     "execution_count": 3,
     "metadata": {},
     "output_type": "execute_result"
    }
   ],
   "source": [
    "df.head(10)"
   ]
  },
  {
   "cell_type": "markdown",
   "metadata": {},
   "source": [
    "***Train-test-split***"
   ]
  },
  {
   "cell_type": "code",
   "execution_count": null,
   "metadata": {},
   "outputs": [],
   "source": [
    "features = df.drop(\"price_cat\", axis=1)\n",
    "labels = df[\"price_cat\"]\n",
    "\n",
    "features_train, features_test, labels_train, labels_test = train_test_split(features, labels, \n",
    "                                                                            test_size=0.2, \n",
    "                                                                            random_state=42,\n",
    "                                                                            stratify=labels)"
   ]
  },
  {
   "cell_type": "markdown",
   "metadata": {},
   "source": [
    "***Model training***"
   ]
  },
  {
   "cell_type": "code",
   "execution_count": null,
   "metadata": {},
   "outputs": [
    {
     "name": "stdout",
     "output_type": "stream",
     "text": [
      "Training GBC...\n"
     ]
    }
   ],
   "source": [
    "print(\"Training GBC...\")\n",
    "clf = GradientBoostingClassifier(loss='deviance',\n",
    "                                 n_estimators=1500, \n",
    "                                 max_depth=4,\n",
    "                                 learning_rate=0.1,\n",
    "                                 random_state=1)\n",
    "clf.fit(features_train, labels_train)\n",
    "print(\"Done\")"
   ]
  },
  {
   "cell_type": "markdown",
   "metadata": {},
   "source": [
    "***Performance***"
   ]
  },
  {
   "cell_type": "code",
   "execution_count": null,
   "metadata": {},
   "outputs": [],
   "source": [
    "print(' GBC:\\n {}\\n'.format(classification_report(labels_test, clf.predict(features_test))))\n",
    "confusion_matrix(labels_test, clf.predict(features_test))"
   ]
  },
  {
   "cell_type": "markdown",
   "metadata": {},
   "source": [
    "### Custom partial dependence plots"
   ]
  },
  {
   "cell_type": "markdown",
   "metadata": {},
   "source": [
    "We are now ready to plot the partial dependence plot. We first need to set the feature and label for which the partial dependence plots are to be created. "
   ]
  },
  {
   "cell_type": "code",
   "execution_count": null,
   "metadata": {},
   "outputs": [],
   "source": [
    "feature_name = 'AveBedrms'\n",
    "label_name = 'high'"
   ]
  },
  {
   "cell_type": "markdown",
   "metadata": {},
   "source": [
    "Now we pass a few arguments along with the above created dictionary to the custom plotter `pd_plot.partial_dependence_plot_custom()`. In the first example below, I have plotted the PDP for the feature `AveBedrooms` and the class label `high`. You can change these and pass any feature and any class label. "
   ]
  },
  {
   "cell_type": "code",
   "execution_count": null,
   "metadata": {},
   "outputs": [],
   "source": [
    "fig, ax = pd_plot.plot_partial_dependence_custom(gbrt=clf,\n",
    "                                                 target_variable_name=feature_name,\n",
    "                                                 label_name=label_name,\n",
    "                                                 X=features_train,\n",
    "                                                 grid_resolution=1000)\n",
    "ax.set_title('Partial dependence plot')\n",
    "ax.set_ylabel('Prob of belonging to class `{}`'.format(label_name))\n",
    "ax.set_xlabel(feature_name)"
   ]
  },
  {
   "cell_type": "code",
   "execution_count": null,
   "metadata": {},
   "outputs": [],
   "source": [
    "# Another example usage\n",
    "feature_name = 'Population'\n",
    "label_name = 'low'\n",
    "\n",
    "fig, ax = pd_plot.plot_partial_dependence_custom(gbrt=clf,\n",
    "                                                 target_variable_name=feature_name,\n",
    "                                                 label_name=label_name,\n",
    "                                                 X=features_train,\n",
    "                                                 grid_resolution=2000,\n",
    "                                                 percentiles=(0.01, 0.95))\n",
    "ax.set_title('Partial dependence plot')\n",
    "ax.set_ylabel('Prob of belonging to class `{}`'.format(label_name))\n",
    "ax.set_xlabel(feature_name)"
   ]
  },
  {
   "cell_type": "code",
   "execution_count": null,
   "metadata": {},
   "outputs": [],
   "source": []
  }
 ],
 "metadata": {
  "kernelspec": {
   "display_name": "Python 3",
   "language": "python",
   "name": "python3"
  },
  "language_info": {
   "codemirror_mode": {
    "name": "ipython",
    "version": 3
   },
   "file_extension": ".py",
   "mimetype": "text/x-python",
   "name": "python",
   "nbconvert_exporter": "python",
   "pygments_lexer": "ipython3",
   "version": "3.6.4"
  }
 },
 "nbformat": 4,
 "nbformat_minor": 2
}
